{
 "cells": [
  {
   "cell_type": "code",
   "execution_count": 1,
   "metadata": {
    "ExecuteTime": {
     "end_time": "2019-01-14T12:48:04.450500Z",
     "start_time": "2019-01-14T12:48:03.586150Z"
    }
   },
   "outputs": [
    {
     "name": "stderr",
     "output_type": "stream",
     "text": [
      "/home/aerdem/projects/lofo-importance/lofo/lofo_importance.py:3: TqdmExperimentalWarning: Using `tqdm.autonotebook.tqdm` in notebook mode. Use `tqdm.tqdm` instead to force console mode (e.g. in jupyter console)\n",
      "  from tqdm.autonotebook import tqdm\n"
     ]
    }
   ],
   "source": [
    "import numpy as np\n",
    "import pandas as pd\n",
    "from sklearn.linear_model import LinearRegression\n",
    "from sklearn.ensemble import RandomForestClassifier\n",
    "from sklearn.model_selection import KFold\n",
    "from lofo import LOFOImportance, FLOFOImportance, Dataset, plot_importance"
   ]
  },
  {
   "cell_type": "code",
   "execution_count": 2,
   "metadata": {
    "ExecuteTime": {
     "end_time": "2019-01-14T12:48:04.513904Z",
     "start_time": "2019-01-14T12:48:04.453322Z"
    }
   },
   "outputs": [
    {
     "data": {
      "text/html": [
       "<div>\n",
       "<style scoped>\n",
       "    .dataframe tbody tr th:only-of-type {\n",
       "        vertical-align: middle;\n",
       "    }\n",
       "\n",
       "    .dataframe tbody tr th {\n",
       "        vertical-align: top;\n",
       "    }\n",
       "\n",
       "    .dataframe thead th {\n",
       "        text-align: right;\n",
       "    }\n",
       "</style>\n",
       "<table border=\"1\" class=\"dataframe\">\n",
       "  <thead>\n",
       "    <tr style=\"text-align: right;\">\n",
       "      <th></th>\n",
       "      <th>A</th>\n",
       "      <th>B</th>\n",
       "      <th>C</th>\n",
       "      <th>D</th>\n",
       "      <th>target</th>\n",
       "      <th>binary_target</th>\n",
       "    </tr>\n",
       "  </thead>\n",
       "  <tbody>\n",
       "    <tr>\n",
       "      <th>0</th>\n",
       "      <td>0.548814</td>\n",
       "      <td>0.592880</td>\n",
       "      <td>0.811518</td>\n",
       "      <td>0.413962</td>\n",
       "      <td>1.471477</td>\n",
       "      <td>1</td>\n",
       "    </tr>\n",
       "    <tr>\n",
       "      <th>1</th>\n",
       "      <td>0.715189</td>\n",
       "      <td>0.010064</td>\n",
       "      <td>0.476084</td>\n",
       "      <td>0.629618</td>\n",
       "      <td>0.583727</td>\n",
       "      <td>0</td>\n",
       "    </tr>\n",
       "    <tr>\n",
       "      <th>2</th>\n",
       "      <td>0.602763</td>\n",
       "      <td>0.475826</td>\n",
       "      <td>0.523156</td>\n",
       "      <td>0.778584</td>\n",
       "      <td>1.448437</td>\n",
       "      <td>1</td>\n",
       "    </tr>\n",
       "    <tr>\n",
       "      <th>3</th>\n",
       "      <td>0.544883</td>\n",
       "      <td>0.708770</td>\n",
       "      <td>0.250521</td>\n",
       "      <td>0.851558</td>\n",
       "      <td>1.951483</td>\n",
       "      <td>1</td>\n",
       "    </tr>\n",
       "    <tr>\n",
       "      <th>4</th>\n",
       "      <td>0.423655</td>\n",
       "      <td>0.043975</td>\n",
       "      <td>0.605043</td>\n",
       "      <td>0.816413</td>\n",
       "      <td>0.444471</td>\n",
       "      <td>0</td>\n",
       "    </tr>\n",
       "  </tbody>\n",
       "</table>\n",
       "</div>"
      ],
      "text/plain": [
       "          A         B         C         D    target  binary_target\n",
       "0  0.548814  0.592880  0.811518  0.413962  1.471477              1\n",
       "1  0.715189  0.010064  0.476084  0.629618  0.583727              0\n",
       "2  0.602763  0.475826  0.523156  0.778584  1.448437              1\n",
       "3  0.544883  0.708770  0.250521  0.851558  1.951483              1\n",
       "4  0.423655  0.043975  0.605043  0.816413  0.444471              0"
      ]
     },
     "execution_count": 2,
     "metadata": {},
     "output_type": "execute_result"
    }
   ],
   "source": [
    "from data.test_data import generate_test_data, generate_unstructured_test_data\n",
    "\n",
    "df = generate_test_data(1000)\n",
    "df.head()"
   ]
  },
  {
   "cell_type": "code",
   "execution_count": 3,
   "metadata": {
    "ExecuteTime": {
     "end_time": "2019-01-14T12:48:04.689772Z",
     "start_time": "2019-01-14T12:48:04.527994Z"
    }
   },
   "outputs": [
    {
     "data": {
      "application/vnd.jupyter.widget-view+json": {
       "model_id": "b813d9c459414a118f07180495e79971",
       "version_major": 2,
       "version_minor": 0
      },
      "text/plain": [
       "HBox(children=(FloatProgress(value=0.0, max=4.0), HTML(value='')))"
      ]
     },
     "metadata": {},
     "output_type": "display_data"
    },
    {
     "name": "stdout",
     "output_type": "stream",
     "text": [
      "\n"
     ]
    },
    {
     "data": {
      "text/html": [
       "<div>\n",
       "<style scoped>\n",
       "    .dataframe tbody tr th:only-of-type {\n",
       "        vertical-align: middle;\n",
       "    }\n",
       "\n",
       "    .dataframe tbody tr th {\n",
       "        vertical-align: top;\n",
       "    }\n",
       "\n",
       "    .dataframe thead th {\n",
       "        text-align: right;\n",
       "    }\n",
       "</style>\n",
       "<table border=\"1\" class=\"dataframe\">\n",
       "  <thead>\n",
       "    <tr style=\"text-align: right;\">\n",
       "      <th></th>\n",
       "      <th>feature</th>\n",
       "      <th>importance_mean</th>\n",
       "      <th>importance_std</th>\n",
       "      <th>val_imp_0</th>\n",
       "      <th>val_imp_1</th>\n",
       "      <th>val_imp_2</th>\n",
       "      <th>val_imp_3</th>\n",
       "      <th>val_imp_4</th>\n",
       "      <th>val_imp_5</th>\n",
       "      <th>val_imp_6</th>\n",
       "      <th>val_imp_7</th>\n",
       "      <th>val_imp_8</th>\n",
       "      <th>val_imp_9</th>\n",
       "    </tr>\n",
       "  </thead>\n",
       "  <tbody>\n",
       "    <tr>\n",
       "      <th>1</th>\n",
       "      <td>B</td>\n",
       "      <td>0.540447</td>\n",
       "      <td>0.017032</td>\n",
       "      <td>0.533597</td>\n",
       "      <td>0.542953</td>\n",
       "      <td>0.515082</td>\n",
       "      <td>0.523174</td>\n",
       "      <td>0.519980</td>\n",
       "      <td>0.540920</td>\n",
       "      <td>0.553128</td>\n",
       "      <td>0.569075</td>\n",
       "      <td>0.562686</td>\n",
       "      <td>0.543878</td>\n",
       "    </tr>\n",
       "    <tr>\n",
       "      <th>3</th>\n",
       "      <td>D</td>\n",
       "      <td>0.091187</td>\n",
       "      <td>0.003451</td>\n",
       "      <td>0.090512</td>\n",
       "      <td>0.086745</td>\n",
       "      <td>0.089700</td>\n",
       "      <td>0.086895</td>\n",
       "      <td>0.087204</td>\n",
       "      <td>0.093852</td>\n",
       "      <td>0.093959</td>\n",
       "      <td>0.096936</td>\n",
       "      <td>0.095004</td>\n",
       "      <td>0.091061</td>\n",
       "    </tr>\n",
       "    <tr>\n",
       "      <th>0</th>\n",
       "      <td>A</td>\n",
       "      <td>0.087466</td>\n",
       "      <td>0.001888</td>\n",
       "      <td>0.089402</td>\n",
       "      <td>0.086949</td>\n",
       "      <td>0.086202</td>\n",
       "      <td>0.090207</td>\n",
       "      <td>0.085031</td>\n",
       "      <td>0.088689</td>\n",
       "      <td>0.086279</td>\n",
       "      <td>0.087283</td>\n",
       "      <td>0.089915</td>\n",
       "      <td>0.084702</td>\n",
       "    </tr>\n",
       "    <tr>\n",
       "      <th>2</th>\n",
       "      <td>C</td>\n",
       "      <td>0.000095</td>\n",
       "      <td>0.000055</td>\n",
       "      <td>0.000144</td>\n",
       "      <td>0.000138</td>\n",
       "      <td>0.000181</td>\n",
       "      <td>0.000021</td>\n",
       "      <td>0.000077</td>\n",
       "      <td>0.000055</td>\n",
       "      <td>0.000147</td>\n",
       "      <td>0.000002</td>\n",
       "      <td>0.000098</td>\n",
       "      <td>0.000089</td>\n",
       "    </tr>\n",
       "  </tbody>\n",
       "</table>\n",
       "</div>"
      ],
      "text/plain": [
       "  feature  importance_mean  importance_std  val_imp_0  val_imp_1  val_imp_2  \\\n",
       "1       B         0.540447        0.017032   0.533597   0.542953   0.515082   \n",
       "3       D         0.091187        0.003451   0.090512   0.086745   0.089700   \n",
       "0       A         0.087466        0.001888   0.089402   0.086949   0.086202   \n",
       "2       C         0.000095        0.000055   0.000144   0.000138   0.000181   \n",
       "\n",
       "   val_imp_3  val_imp_4  val_imp_5  val_imp_6  val_imp_7  val_imp_8  val_imp_9  \n",
       "1   0.523174   0.519980   0.540920   0.553128   0.569075   0.562686   0.543878  \n",
       "3   0.086895   0.087204   0.093852   0.093959   0.096936   0.095004   0.091061  \n",
       "0   0.090207   0.085031   0.088689   0.086279   0.087283   0.089915   0.084702  \n",
       "2   0.000021   0.000077   0.000055   0.000147   0.000002   0.000098   0.000089  "
      ]
     },
     "execution_count": 3,
     "metadata": {},
     "output_type": "execute_result"
    }
   ],
   "source": [
    "lr = LinearRegression()\n",
    "lr.fit(df[[\"A\", \"B\", \"C\", \"D\"]], df[\"target\"])\n",
    "\n",
    "fi = FLOFOImportance(lr, df, [\"A\", \"B\", \"C\", \"D\"], 'target', scoring=\"neg_mean_absolute_error\")\n",
    "\n",
    "importances = fi.get_importance()\n",
    "importances"
   ]
  },
  {
   "cell_type": "code",
   "execution_count": 4,
   "metadata": {},
   "outputs": [
    {
     "data": {
      "application/vnd.jupyter.widget-view+json": {
       "model_id": "4f8be94540c84d2ab45e8d5e277e69e8",
       "version_major": 2,
       "version_minor": 0
      },
      "text/plain": [
       "HBox(children=(FloatProgress(value=0.0, max=4.0), HTML(value='')))"
      ]
     },
     "metadata": {},
     "output_type": "display_data"
    },
    {
     "name": "stdout",
     "output_type": "stream",
     "text": [
      "\n"
     ]
    },
    {
     "data": {
      "text/html": [
       "<div>\n",
       "<style scoped>\n",
       "    .dataframe tbody tr th:only-of-type {\n",
       "        vertical-align: middle;\n",
       "    }\n",
       "\n",
       "    .dataframe tbody tr th {\n",
       "        vertical-align: top;\n",
       "    }\n",
       "\n",
       "    .dataframe thead th {\n",
       "        text-align: right;\n",
       "    }\n",
       "</style>\n",
       "<table border=\"1\" class=\"dataframe\">\n",
       "  <thead>\n",
       "    <tr style=\"text-align: right;\">\n",
       "      <th></th>\n",
       "      <th>feature</th>\n",
       "      <th>importance_mean</th>\n",
       "      <th>importance_std</th>\n",
       "      <th>val_imp_0</th>\n",
       "      <th>val_imp_1</th>\n",
       "      <th>val_imp_2</th>\n",
       "      <th>val_imp_3</th>\n",
       "    </tr>\n",
       "  </thead>\n",
       "  <tbody>\n",
       "    <tr>\n",
       "      <th>1</th>\n",
       "      <td>B</td>\n",
       "      <td>0.445256</td>\n",
       "      <td>0.026244</td>\n",
       "      <td>0.424979</td>\n",
       "      <td>0.418390</td>\n",
       "      <td>0.452846</td>\n",
       "      <td>0.484809</td>\n",
       "    </tr>\n",
       "    <tr>\n",
       "      <th>3</th>\n",
       "      <td>D</td>\n",
       "      <td>0.053289</td>\n",
       "      <td>0.006535</td>\n",
       "      <td>0.050304</td>\n",
       "      <td>0.063162</td>\n",
       "      <td>0.045333</td>\n",
       "      <td>0.054358</td>\n",
       "    </tr>\n",
       "    <tr>\n",
       "      <th>0</th>\n",
       "      <td>A</td>\n",
       "      <td>0.050934</td>\n",
       "      <td>0.004749</td>\n",
       "      <td>0.045731</td>\n",
       "      <td>0.048411</td>\n",
       "      <td>0.051128</td>\n",
       "      <td>0.058467</td>\n",
       "    </tr>\n",
       "    <tr>\n",
       "      <th>2</th>\n",
       "      <td>C</td>\n",
       "      <td>0.000049</td>\n",
       "      <td>0.000028</td>\n",
       "      <td>0.000083</td>\n",
       "      <td>0.000070</td>\n",
       "      <td>0.000028</td>\n",
       "      <td>0.000015</td>\n",
       "    </tr>\n",
       "  </tbody>\n",
       "</table>\n",
       "</div>"
      ],
      "text/plain": [
       "  feature  importance_mean  importance_std  val_imp_0  val_imp_1  val_imp_2  \\\n",
       "1       B         0.445256        0.026244   0.424979   0.418390   0.452846   \n",
       "3       D         0.053289        0.006535   0.050304   0.063162   0.045333   \n",
       "0       A         0.050934        0.004749   0.045731   0.048411   0.051128   \n",
       "2       C         0.000049        0.000028   0.000083   0.000070   0.000028   \n",
       "\n",
       "   val_imp_3  \n",
       "1   0.484809  \n",
       "3   0.054358  \n",
       "0   0.058467  \n",
       "2   0.000015  "
      ]
     },
     "execution_count": 4,
     "metadata": {},
     "output_type": "execute_result"
    }
   ],
   "source": [
    "from sklearn.metrics import make_scorer, mean_absolute_error\n",
    "\n",
    "scorer = make_scorer(mean_absolute_error, greater_is_better=False)\n",
    "cv = KFold(n_splits=4, shuffle=True, random_state=0)\n",
    "\n",
    "dataset = Dataset(df=df, target=\"target\", features=[\"A\", \"B\", \"C\", \"D\"])\n",
    "fi = LOFOImportance(dataset, scoring=scorer, model=LinearRegression(), cv=cv)\n",
    "\n",
    "importances = fi.get_importance()\n",
    "importances"
   ]
  },
  {
   "cell_type": "code",
   "execution_count": 5,
   "metadata": {
    "ExecuteTime": {
     "end_time": "2019-01-14T12:48:05.103111Z",
     "start_time": "2019-01-14T12:48:04.692682Z"
    }
   },
   "outputs": [
    {
     "data": {
      "application/vnd.jupyter.widget-view+json": {
       "model_id": "8950ff1ac84940a6a2817290be5a2c0b",
       "version_major": 2,
       "version_minor": 0
      },
      "text/plain": [
       "HBox(children=(FloatProgress(value=0.0, max=4.0), HTML(value='')))"
      ]
     },
     "metadata": {},
     "output_type": "display_data"
    },
    {
     "name": "stdout",
     "output_type": "stream",
     "text": [
      "\n"
     ]
    },
    {
     "data": {
      "text/html": [
       "<div>\n",
       "<style scoped>\n",
       "    .dataframe tbody tr th:only-of-type {\n",
       "        vertical-align: middle;\n",
       "    }\n",
       "\n",
       "    .dataframe tbody tr th {\n",
       "        vertical-align: top;\n",
       "    }\n",
       "\n",
       "    .dataframe thead th {\n",
       "        text-align: right;\n",
       "    }\n",
       "</style>\n",
       "<table border=\"1\" class=\"dataframe\">\n",
       "  <thead>\n",
       "    <tr style=\"text-align: right;\">\n",
       "      <th></th>\n",
       "      <th>feature</th>\n",
       "      <th>importance_mean</th>\n",
       "      <th>importance_std</th>\n",
       "      <th>val_imp_0</th>\n",
       "      <th>val_imp_1</th>\n",
       "      <th>val_imp_2</th>\n",
       "      <th>val_imp_3</th>\n",
       "    </tr>\n",
       "  </thead>\n",
       "  <tbody>\n",
       "    <tr>\n",
       "      <th>1</th>\n",
       "      <td>B</td>\n",
       "      <td>0.421</td>\n",
       "      <td>0.015588</td>\n",
       "      <td>0.420</td>\n",
       "      <td>0.420</td>\n",
       "      <td>0.444</td>\n",
       "      <td>0.400</td>\n",
       "    </tr>\n",
       "    <tr>\n",
       "      <th>0</th>\n",
       "      <td>A</td>\n",
       "      <td>0.043</td>\n",
       "      <td>0.019875</td>\n",
       "      <td>0.056</td>\n",
       "      <td>0.012</td>\n",
       "      <td>0.064</td>\n",
       "      <td>0.040</td>\n",
       "    </tr>\n",
       "    <tr>\n",
       "      <th>3</th>\n",
       "      <td>D</td>\n",
       "      <td>0.038</td>\n",
       "      <td>0.007211</td>\n",
       "      <td>0.048</td>\n",
       "      <td>0.036</td>\n",
       "      <td>0.040</td>\n",
       "      <td>0.028</td>\n",
       "    </tr>\n",
       "    <tr>\n",
       "      <th>2</th>\n",
       "      <td>C</td>\n",
       "      <td>0.006</td>\n",
       "      <td>0.009165</td>\n",
       "      <td>0.020</td>\n",
       "      <td>0.008</td>\n",
       "      <td>0.000</td>\n",
       "      <td>-0.004</td>\n",
       "    </tr>\n",
       "  </tbody>\n",
       "</table>\n",
       "</div>"
      ],
      "text/plain": [
       "  feature  importance_mean  importance_std  val_imp_0  val_imp_1  val_imp_2  \\\n",
       "1       B            0.421        0.015588      0.420      0.420      0.444   \n",
       "0       A            0.043        0.019875      0.056      0.012      0.064   \n",
       "3       D            0.038        0.007211      0.048      0.036      0.040   \n",
       "2       C            0.006        0.009165      0.020      0.008      0.000   \n",
       "\n",
       "   val_imp_3  \n",
       "1      0.400  \n",
       "0      0.040  \n",
       "3      0.028  \n",
       "2     -0.004  "
      ]
     },
     "execution_count": 5,
     "metadata": {},
     "output_type": "execute_result"
    }
   ],
   "source": [
    "rf = RandomForestClassifier(n_estimators=10, max_depth=5, random_state=0)\n",
    "\n",
    "dataset = Dataset(df=df, target=\"binary_target\", features=[\"A\", \"B\", \"C\", \"D\"])\n",
    "fi = LOFOImportance(dataset, scoring='accuracy', model=rf, cv=cv)\n",
    "\n",
    "importances = fi.get_importance()\n",
    "importances"
   ]
  },
  {
   "cell_type": "code",
   "execution_count": 6,
   "metadata": {},
   "outputs": [
    {
     "data": {
      "application/vnd.jupyter.widget-view+json": {
       "model_id": "cfc02682c6684a979291ee2f95e39821",
       "version_major": 2,
       "version_minor": 0
      },
      "text/plain": [
       "HBox(children=(FloatProgress(value=0.0, max=4.0), HTML(value='')))"
      ]
     },
     "metadata": {},
     "output_type": "display_data"
    },
    {
     "name": "stdout",
     "output_type": "stream",
     "text": [
      "\n"
     ]
    },
    {
     "data": {
      "text/html": [
       "<div>\n",
       "<style scoped>\n",
       "    .dataframe tbody tr th:only-of-type {\n",
       "        vertical-align: middle;\n",
       "    }\n",
       "\n",
       "    .dataframe tbody tr th {\n",
       "        vertical-align: top;\n",
       "    }\n",
       "\n",
       "    .dataframe thead th {\n",
       "        text-align: right;\n",
       "    }\n",
       "</style>\n",
       "<table border=\"1\" class=\"dataframe\">\n",
       "  <thead>\n",
       "    <tr style=\"text-align: right;\">\n",
       "      <th></th>\n",
       "      <th>feature</th>\n",
       "      <th>importance_mean</th>\n",
       "      <th>importance_std</th>\n",
       "      <th>val_imp_0</th>\n",
       "      <th>val_imp_1</th>\n",
       "      <th>val_imp_2</th>\n",
       "      <th>val_imp_3</th>\n",
       "    </tr>\n",
       "  </thead>\n",
       "  <tbody>\n",
       "    <tr>\n",
       "      <th>1</th>\n",
       "      <td>B</td>\n",
       "      <td>0.190080</td>\n",
       "      <td>0.004669</td>\n",
       "      <td>0.191205</td>\n",
       "      <td>0.185076</td>\n",
       "      <td>0.186855</td>\n",
       "      <td>0.197185</td>\n",
       "    </tr>\n",
       "    <tr>\n",
       "      <th>0</th>\n",
       "      <td>A</td>\n",
       "      <td>0.004766</td>\n",
       "      <td>0.004523</td>\n",
       "      <td>0.003013</td>\n",
       "      <td>0.000024</td>\n",
       "      <td>0.012207</td>\n",
       "      <td>0.003820</td>\n",
       "    </tr>\n",
       "    <tr>\n",
       "      <th>3</th>\n",
       "      <td>D</td>\n",
       "      <td>0.003300</td>\n",
       "      <td>0.001643</td>\n",
       "      <td>0.003527</td>\n",
       "      <td>0.003856</td>\n",
       "      <td>0.000658</td>\n",
       "      <td>0.005160</td>\n",
       "    </tr>\n",
       "    <tr>\n",
       "      <th>2</th>\n",
       "      <td>C</td>\n",
       "      <td>0.000616</td>\n",
       "      <td>0.006351</td>\n",
       "      <td>0.008082</td>\n",
       "      <td>0.005725</td>\n",
       "      <td>-0.006130</td>\n",
       "      <td>-0.005215</td>\n",
       "    </tr>\n",
       "  </tbody>\n",
       "</table>\n",
       "</div>"
      ],
      "text/plain": [
       "  feature  importance_mean  importance_std  val_imp_0  val_imp_1  val_imp_2  \\\n",
       "1       B         0.190080        0.004669   0.191205   0.185076   0.186855   \n",
       "0       A         0.004766        0.004523   0.003013   0.000024   0.012207   \n",
       "3       D         0.003300        0.001643   0.003527   0.003856   0.000658   \n",
       "2       C         0.000616        0.006351   0.008082   0.005725  -0.006130   \n",
       "\n",
       "   val_imp_3  \n",
       "1   0.197185  \n",
       "0   0.003820  \n",
       "3   0.005160  \n",
       "2  -0.005215  "
      ]
     },
     "execution_count": 6,
     "metadata": {},
     "output_type": "execute_result"
    }
   ],
   "source": [
    "df = generate_unstructured_test_data(10000)\n",
    "\n",
    "dataset = Dataset(df=df, target=\"binary_target\", features=[\"A\", \"B\", \"C\", \"D\"])\n",
    "fi = LOFOImportance(dataset, 'roc_auc')\n",
    "\n",
    "importances = fi.get_importance()\n",
    "importances"
   ]
  },
  {
   "cell_type": "code",
   "execution_count": 7,
   "metadata": {},
   "outputs": [
    {
     "data": {
      "application/vnd.jupyter.widget-view+json": {
       "model_id": "892397424a4d469c9ef845f88f131b82",
       "version_major": 2,
       "version_minor": 0
      },
      "text/plain": [
       "HBox(children=(FloatProgress(value=0.0, max=5.0), HTML(value='')))"
      ]
     },
     "metadata": {},
     "output_type": "display_data"
    },
    {
     "name": "stdout",
     "output_type": "stream",
     "text": [
      "\n"
     ]
    },
    {
     "data": {
      "text/html": [
       "<div>\n",
       "<style scoped>\n",
       "    .dataframe tbody tr th:only-of-type {\n",
       "        vertical-align: middle;\n",
       "    }\n",
       "\n",
       "    .dataframe tbody tr th {\n",
       "        vertical-align: top;\n",
       "    }\n",
       "\n",
       "    .dataframe thead th {\n",
       "        text-align: right;\n",
       "    }\n",
       "</style>\n",
       "<table border=\"1\" class=\"dataframe\">\n",
       "  <thead>\n",
       "    <tr style=\"text-align: right;\">\n",
       "      <th></th>\n",
       "      <th>feature</th>\n",
       "      <th>importance_mean</th>\n",
       "      <th>importance_std</th>\n",
       "      <th>val_imp_0</th>\n",
       "      <th>val_imp_1</th>\n",
       "      <th>val_imp_2</th>\n",
       "      <th>val_imp_3</th>\n",
       "    </tr>\n",
       "  </thead>\n",
       "  <tbody>\n",
       "    <tr>\n",
       "      <th>4</th>\n",
       "      <td>E</td>\n",
       "      <td>0.543890</td>\n",
       "      <td>0.002727</td>\n",
       "      <td>0.544677</td>\n",
       "      <td>0.540228</td>\n",
       "      <td>0.542920</td>\n",
       "      <td>0.547735</td>\n",
       "    </tr>\n",
       "    <tr>\n",
       "      <th>1</th>\n",
       "      <td>B</td>\n",
       "      <td>0.298485</td>\n",
       "      <td>0.006152</td>\n",
       "      <td>0.294240</td>\n",
       "      <td>0.293408</td>\n",
       "      <td>0.297484</td>\n",
       "      <td>0.308809</td>\n",
       "    </tr>\n",
       "    <tr>\n",
       "      <th>3</th>\n",
       "      <td>D</td>\n",
       "      <td>0.047357</td>\n",
       "      <td>0.001626</td>\n",
       "      <td>0.045262</td>\n",
       "      <td>0.046700</td>\n",
       "      <td>0.049725</td>\n",
       "      <td>0.047739</td>\n",
       "    </tr>\n",
       "    <tr>\n",
       "      <th>0</th>\n",
       "      <td>A</td>\n",
       "      <td>0.038360</td>\n",
       "      <td>0.000741</td>\n",
       "      <td>0.037887</td>\n",
       "      <td>0.037394</td>\n",
       "      <td>0.039035</td>\n",
       "      <td>0.039125</td>\n",
       "    </tr>\n",
       "    <tr>\n",
       "      <th>2</th>\n",
       "      <td>C</td>\n",
       "      <td>-0.000361</td>\n",
       "      <td>0.000450</td>\n",
       "      <td>0.000144</td>\n",
       "      <td>-0.000451</td>\n",
       "      <td>-0.000089</td>\n",
       "      <td>-0.001048</td>\n",
       "    </tr>\n",
       "  </tbody>\n",
       "</table>\n",
       "</div>"
      ],
      "text/plain": [
       "  feature  importance_mean  importance_std  val_imp_0  val_imp_1  val_imp_2  \\\n",
       "4       E         0.543890        0.002727   0.544677   0.540228   0.542920   \n",
       "1       B         0.298485        0.006152   0.294240   0.293408   0.297484   \n",
       "3       D         0.047357        0.001626   0.045262   0.046700   0.049725   \n",
       "0       A         0.038360        0.000741   0.037887   0.037394   0.039035   \n",
       "2       C        -0.000361        0.000450   0.000144  -0.000451  -0.000089   \n",
       "\n",
       "   val_imp_3  \n",
       "4   0.547735  \n",
       "1   0.308809  \n",
       "3   0.047739  \n",
       "0   0.039125  \n",
       "2  -0.001048  "
      ]
     },
     "execution_count": 7,
     "metadata": {},
     "output_type": "execute_result"
    }
   ],
   "source": [
    "dataset = Dataset(df=df, target=\"target\", features=[\"A\", \"B\", \"C\", \"D\", \"E\"])\n",
    "fi = LOFOImportance(dataset, scorer, n_jobs=-1)\n",
    "\n",
    "importances = fi.get_importance()\n",
    "importances"
   ]
  },
  {
   "cell_type": "code",
   "execution_count": 8,
   "metadata": {},
   "outputs": [
    {
     "data": {
      "image/png": "[encoded data removed]",
      "text/plain": [
       "<Figure size 576x576 with 1 Axes>"
      ]
     },
     "metadata": {
      "needs_background": "light"
     },
     "output_type": "display_data"
    }
   ],
   "source": [
    "%matplotlib inline\n",
    "plot_importance(importances)"
   ]
  },
  {
   "cell_type": "code",
   "execution_count": 9,
   "metadata": {},
   "outputs": [
    {
     "data": {
      "image/png": "[encoded data removed]",
      "text/plain": [
       "<Figure size 432x288 with 1 Axes>"
      ]
     },
     "metadata": {
      "needs_background": "light"
     },
     "output_type": "display_data"
    }
   ],
   "source": [
    "plot_importance(importances, kind=\"box\")"
   ]
  },
  {
   "cell_type": "code",
   "execution_count": 10,
   "metadata": {},
   "outputs": [
    {
     "name": "stderr",
     "output_type": "stream",
     "text": [
      "/home/aerdem/projects/lofo-importance/lofo/lofo_importance.py:45: UserWarning: Warning: If your model is multithreaded, please initialise the numberof jobs of LOFO to be equal to 1, otherwise you may experience performance issues.\n",
      "  warnings.warn(warning_str)\n"
     ]
    },
    {
     "data": {
      "text/html": [
       "<div>\n",
       "<style scoped>\n",
       "    .dataframe tbody tr th:only-of-type {\n",
       "        vertical-align: middle;\n",
       "    }\n",
       "\n",
       "    .dataframe tbody tr th {\n",
       "        vertical-align: top;\n",
       "    }\n",
       "\n",
       "    .dataframe thead th {\n",
       "        text-align: right;\n",
       "    }\n",
       "</style>\n",
       "<table border=\"1\" class=\"dataframe\">\n",
       "  <thead>\n",
       "    <tr style=\"text-align: right;\">\n",
       "      <th></th>\n",
       "      <th>feature</th>\n",
       "      <th>importance_mean</th>\n",
       "      <th>importance_std</th>\n",
       "      <th>val_imp_0</th>\n",
       "      <th>val_imp_1</th>\n",
       "      <th>val_imp_2</th>\n",
       "      <th>val_imp_3</th>\n",
       "    </tr>\n",
       "  </thead>\n",
       "  <tbody>\n",
       "    <tr>\n",
       "      <th>5</th>\n",
       "      <td>names</td>\n",
       "      <td>0.220283</td>\n",
       "      <td>0.011425</td>\n",
       "      <td>2.065105e-01</td>\n",
       "      <td>0.237738</td>\n",
       "      <td>0.221682</td>\n",
       "      <td>2.152011e-01</td>\n",
       "    </tr>\n",
       "    <tr>\n",
       "      <th>1</th>\n",
       "      <td>B</td>\n",
       "      <td>0.005008</td>\n",
       "      <td>0.002075</td>\n",
       "      <td>6.186478e-03</td>\n",
       "      <td>0.007807</td>\n",
       "      <td>0.003241</td>\n",
       "      <td>2.798645e-03</td>\n",
       "    </tr>\n",
       "    <tr>\n",
       "      <th>2</th>\n",
       "      <td>A</td>\n",
       "      <td>0.000773</td>\n",
       "      <td>0.000514</td>\n",
       "      <td>1.031080e-03</td>\n",
       "      <td>0.001473</td>\n",
       "      <td>0.000442</td>\n",
       "      <td>1.472971e-04</td>\n",
       "    </tr>\n",
       "    <tr>\n",
       "      <th>0</th>\n",
       "      <td>D</td>\n",
       "      <td>0.000074</td>\n",
       "      <td>0.000368</td>\n",
       "      <td>1.472971e-04</td>\n",
       "      <td>-0.000442</td>\n",
       "      <td>0.000589</td>\n",
       "      <td>0.000000e+00</td>\n",
       "    </tr>\n",
       "    <tr>\n",
       "      <th>3</th>\n",
       "      <td>C</td>\n",
       "      <td>-0.000110</td>\n",
       "      <td>0.000482</td>\n",
       "      <td>1.110223e-16</td>\n",
       "      <td>-0.000884</td>\n",
       "      <td>0.000442</td>\n",
       "      <td>1.110223e-16</td>\n",
       "    </tr>\n",
       "    <tr>\n",
       "      <th>4</th>\n",
       "      <td>interactions</td>\n",
       "      <td>-0.000147</td>\n",
       "      <td>0.000751</td>\n",
       "      <td>1.472971e-04</td>\n",
       "      <td>-0.001326</td>\n",
       "      <td>0.000736</td>\n",
       "      <td>-1.472971e-04</td>\n",
       "    </tr>\n",
       "  </tbody>\n",
       "</table>\n",
       "</div>"
      ],
      "text/plain": [
       "        feature  importance_mean  importance_std     val_imp_0  val_imp_1  \\\n",
       "5         names         0.220283        0.011425  2.065105e-01   0.237738   \n",
       "1             B         0.005008        0.002075  6.186478e-03   0.007807   \n",
       "2             A         0.000773        0.000514  1.031080e-03   0.001473   \n",
       "0             D         0.000074        0.000368  1.472971e-04  -0.000442   \n",
       "3             C        -0.000110        0.000482  1.110223e-16  -0.000884   \n",
       "4  interactions        -0.000147        0.000751  1.472971e-04  -0.001326   \n",
       "\n",
       "   val_imp_2     val_imp_3  \n",
       "5   0.221682  2.152011e-01  \n",
       "1   0.003241  2.798645e-03  \n",
       "2   0.000442  1.472971e-04  \n",
       "0   0.000589  0.000000e+00  \n",
       "3   0.000442  1.110223e-16  \n",
       "4   0.000736 -1.472971e-04  "
      ]
     },
     "execution_count": 10,
     "metadata": {},
     "output_type": "execute_result"
    }
   ],
   "source": [
    "from sklearn.feature_extraction.text import CountVectorizer\n",
    "from lightgbm import LGBMClassifier\n",
    "\n",
    "df = generate_test_data(1000, text=True)\n",
    "features = [\"A\", \"B\", \"C\", \"D\"]\n",
    "\n",
    "cv = CountVectorizer(ngram_range=(3, 3), analyzer=\"char\")\n",
    "feature_groups = dict()\n",
    "feature_groups[\"names\"] = cv.fit_transform(df[\"T\"])\n",
    "feature_groups[\"interactions\"] = df[[\"A\", \"B\"]].values*df[[\"C\", \"D\"]].values\n",
    "\n",
    "dataset = Dataset(df=df, target=\"binary_target\", features=features, feature_groups=feature_groups)\n",
    "\n",
    "lgbm = LGBMClassifier(random_state=0, n_jobs=1)\n",
    "\n",
    "lofo = LOFOImportance(dataset, model=lgbm, cv=4, scoring='roc_auc', n_jobs=4)\n",
    "\n",
    "importances = lofo.get_importance()\n",
    "importances"
   ]
  },
  {
   "cell_type": "code",
   "execution_count": null,
   "metadata": {},
   "outputs": [],
   "source": []
  },
  {
   "cell_type": "code",
   "execution_count": null,
   "metadata": {},
   "outputs": [],
   "source": []
  }
 ],
 "metadata": {
  "kernelspec": {
   "display_name": "Python 3",
   "language": "python",
   "name": "python3"
  },
  "language_info": {
   "codemirror_mode": {
    "name": "ipython",
    "version": 3
   },
   "file_extension": ".py",
   "mimetype": "text/x-python",
   "name": "python",
   "nbconvert_exporter": "python",
   "pygments_lexer": "ipython3",
   "version": "3.6.9"
  },
  "toc": {
   "colors": {
    "hover_highlight": "#DAA520",
    "navigate_num": "#000000",
    "navigate_text": "#333333",
    "running_highlight": "#FF0000",
    "selected_highlight": "#FFD700",
    "sidebar_border": "#EEEEEE",
    "wrapper_background": "#FFFFFF"
   },
   "moveMenuLeft": true,
   "nav_menu": {
    "height": "12px",
    "width": "252px"
   },
   "navigate_menu": true,
   "number_sections": true,
   "sideBar": true,
   "threshold": 4,
   "toc_cell": false,
   "toc_section_display": "block",
   "toc_window_display": false,
   "widenNotebook": false
  }
 },
 "nbformat": 4,
 "nbformat_minor": 2
}
